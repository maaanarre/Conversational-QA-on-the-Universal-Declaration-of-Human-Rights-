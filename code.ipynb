{
 "cells": [
  {
   "cell_type": "markdown",
   "id": "87bd4e50-173e-4e79-92bd-dec0bb317d7c",
   "metadata": {},
   "source": [
    "## 1st step : load the document\n",
    "<img src=\"https://cf-courses-data.s3.us.cloud-object-storage.appdomain.cloud/MPdUH7bXpHR5muZztZfOQg.png\" width=\"50%\" alt=\"split\"/>"
   ]
  },
  {
   "cell_type": "code",
   "execution_count": 1,
   "id": "0ff376de-d650-468f-b639-fafd3c1f8059",
   "metadata": {},
   "outputs": [],
   "source": [
    "filename = 'Universal Declaration of Human Righ.txt'\n"
   ]
  },
  {
   "cell_type": "code",
   "execution_count": 2,
   "id": "c29935c8-a3b3-404f-a735-09113a8c5f8c",
   "metadata": {},
   "outputs": [
    {
     "name": "stdout",
     "output_type": "stream",
     "text": [
      "Universal Declaration of Human Rights\n",
      "The Universal Declaration of Human Rights (UDHR) is a milestone document in the history of human rights. Drafted by representatives with different legal and cultural backgrounds from all regions of the world, the Declaration was proclaimed by the United Nations General Assembly in Paris on 10 December 1948 (General Assembly resolution 217 A) as a common standard of achievements for all peoples and all nations. It sets out, for the first time, fundamental human rights to be universally protected and it has been translated into over 500 languages. The UDHR is widely recognized as having inspired, and paved the way for, the adoption of more than seventy human rights treaties, applied today on a permanent basis at global and regional levels (all containing references to it in their preambles). \n",
      "\n",
      "Preamble\n",
      "Whereas recognition of the inherent dignity and of the equal and inalienable rights of all members of the human family is the foundation of freedom, justice and peace in the world,\n",
      "\n",
      "Whereas disregard and contempt for human rights have resulted in barbarous acts which have outraged the conscience of mankind, and the advent of a world in which human beings shall enjoy freedom of speech and belief and freedom from fear and want has been proclaimed as the highest aspiration of the common people,\n",
      "\n",
      "Whereas it is essential, if man is not to be compelled to have recourse, as a last resort, to rebellion against tyranny and oppression, that human rights should be protected by the rule of law,\n",
      "\n",
      "Whereas it is essential to promote the development of friendly relations between nations,\n",
      "\n",
      "Whereas the peoples of the United Nations have in the Charter reaffirmed their faith in fundamental human rights, in the dignity and worth of the human person and in the equal rights of men and women and have determined to promote social progress and better standards of life in larger freedom,\n",
      "\n",
      "Whereas Member States have pledged themselves to achieve, in co-operation with the United Nations, the promotion of universal respect for and observance of human rights and fundamental freedoms,\n",
      "\n",
      "Whereas a common understanding of these rights and freedoms is of the greatest importance for the full realization of this pledge,\n",
      "\n",
      "Now, therefore,\n",
      "\n",
      "The General Assembly,\n",
      "\n",
      "Proclaims this Universal Declaration of Human Rights as a common standard of achievement for all peoples and all nations, to the end that every individual and every organ of society, keeping this Declaration constantly in mind, shall strive by teaching and education to promote respect for these rights and freedoms and by progressive measures, national and international, to secure their universal and effective recognition and observance, both among the peoples of Member States themselves and among the peoples of territories under their jurisdiction. \n",
      "\n",
      "Article 1\n",
      "All human beings are born free and equal in dignity and rights. They are endowed with reason and conscience and should act towards one another in a spirit of brotherhood.\n",
      "\n",
      "Article 2\n",
      "Everyone is entitled to all the rights and freedoms set forth in this Declaration, without distinction of any kind, such as race, colour, sex, language, religion, political or other opinion, national or social origin, property, birth or other status. Furthermore, no distinction shall be made on the basis of the political, jurisdictional or international status of the country or territory to which a person belongs, whether it be independent, trust, non-self-governing or under any other limitation of sovereignty.\n",
      "\n",
      "Article 3\n",
      "Everyone has the right to life, liberty and security of person.\n",
      "\n",
      "Article 4\n",
      "No one shall be held in slavery or servitude; slavery and the slave trade shall be prohibited in all their forms.\n",
      "\n",
      "Article 5\n",
      "No one shall be subjected to torture or to cruel, inhuman or degrading treatment or punishment.\n",
      "\n",
      "Article 6\n",
      "Everyone has the right to recognition everywhere as a person before the law.\n",
      "\n",
      "Article 7\n",
      "All are equal before the law and are entitled without any discrimination to equal protection of the law. All are entitled to equal protection against any discrimination in violation of this Declaration and against any incitement to such discrimination.\n",
      "\n",
      "Article 8\n",
      "Everyone has the right to an effective remedy by the competent national tribunals for acts violating the fundamental rights granted him by the constitution or by law.\n",
      "\n",
      "Article 9\n",
      "No one shall be subjected to arbitrary arrest, detention or exile.\n",
      "\n",
      "Article 10\n",
      "Everyone is entitled in full equality to a fair and public hearing by an independent and impartial tribunal, in the determination of his rights and obligations and of any criminal charge against him.\n",
      "\n",
      "Article 11\n",
      "Everyone charged with a penal offence has the right to be presumed innocent until proved guilty according to law in a public trial at which he has had all the guarantees necessary for his defence.\n",
      "No one shall be held guilty of any penal offence on account of any act or omission which did not constitute a penal offence, under national or international law, at the time when it was committed. Nor shall a heavier penalty be imposed than the one that was applicable at the time the penal offence was committed.\n",
      "Article 12\n",
      "No one shall be subjected to arbitrary interference with his privacy, family, home or correspondence, nor to attacks upon his honour and reputation. Everyone has the right to the protection of the law against such interference or attacks.\n",
      "\n",
      "Article 13\n",
      "Everyone has the right to freedom of movement and residence within the borders of each state.\n",
      "Everyone has the right to leave any country, including his own, and to return to his country.\n",
      "Article 14\n",
      "Everyone has the right to seek and to enjoy in other countries asylum from persecution.\n",
      "This right may not be invoked in the case of prosecutions genuinely arising from non-political crimes or from acts contrary to the purposes and principles of the United Nations.\n",
      "Article 15\n",
      "Everyone has the right to a nationality.\n",
      "No one shall be arbitrarily deprived of his nationality nor denied the right to change his nationality.\n",
      "Article 16\n",
      "Men and women of full age, without any limitation due to race, nationality or religion, have the right to marry and to found a family. They are entitled to equal rights as to marriage, during marriage and at its dissolution.\n",
      "Marriage shall be entered into only with the free and full consent of the intending spouses.\n",
      "The family is the natural and fundamental group unit of society and is entitled to protection by society and the State.\n",
      "Article 17\n",
      "Everyone has the right to own property alone as well as in association with others.\n",
      "No one shall be arbitrarily deprived of his property.\n",
      "Article 18\n",
      "Everyone has the right to freedom of thought, conscience and religion; this right includes freedom to change his religion or belief, and freedom, either alone or in community with others and in public or private, to manifest his religion or belief in teaching, practice, worship and observance.\n",
      "\n",
      "Article 19\n",
      "Everyone has the right to freedom of opinion and expression; this right includes freedom to hold opinions without interference and to seek, receive and impart information and ideas through any media and regardless of frontiers.\n",
      "\n",
      "Article 20\n",
      "Everyone has the right to freedom of peaceful assembly and association.\n",
      "No one may be compelled to belong to an association.\n",
      "Article 21\n",
      "Everyone has the right to take part in the government of his country, directly or through freely chosen representatives.\n",
      "Everyone has the right of equal access to public service in his country.\n",
      "The will of the people shall be the basis of the authority of government; this will shall be expressed in periodic and genuine elections which shall be by universal and equal suffrage and shall be held by secret vote or by equivalent free voting procedures.\n",
      "Article 22\n",
      "Everyone, as a member of society, has the right to social security and is entitled to realization, through national effort and international co-operation and in accordance with the organization and resources of each State, of the economic, social and cultural rights indispensable for his dignity and the free development of his personality.\n",
      "\n",
      "Article 23\n",
      "Everyone has the right to work, to free choice of employment, to just and favourable conditions of work and to protection against unemployment.\n",
      "Everyone, without any discrimination, has the right to equal pay for equal work.\n",
      "Everyone who works has the right to just and favourable remuneration ensuring for himself and his family an existence worthy of human dignity, and supplemented, if necessary, by other means of social protection.\n",
      "Everyone has the right to form and to join trade unions for the protection of his interests.\n",
      "Article 24\n",
      "Everyone has the right to rest and leisure, including reasonable limitation of working hours and periodic holidays with pay.\n",
      "\n",
      "Article 25\n",
      "Everyone has the right to a standard of living adequate for the health and well-being of himself and of his family, including food, clothing, housing and medical care and necessary social services, and the right to security in the event of unemployment, sickness, disability, widowhood, old age or other lack of livelihood in circumstances beyond his control.\n",
      "Motherhood and childhood are entitled to special care and assistance. All children, whether born in or out of wedlock, shall enjoy the same social protection.\n",
      "Article 26\n",
      "Everyone has the right to education. Education shall be free, at least in the elementary and fundamental stages. Elementary education shall be compulsory. Technical and professional education shall be made generally available and higher education shall be equally accessible to all on the basis of merit.\n",
      "Education shall be directed to the full development of the human personality and to the strengthening of respect for human rights and fundamental freedoms. It shall promote understanding, tolerance and friendship among all nations, racial or religious groups, and shall further the activities of the United Nations for the maintenance of peace.\n",
      "Parents have a prior right to choose the kind of education that shall be given to their children.\n",
      "Article 27\n",
      "Everyone has the right freely to participate in the cultural life of the community, to enjoy the arts and to share in scientific advancement and its benefits.\n",
      "Everyone has the right to the protection of the moral and material interests resulting from any scientific, literary or artistic production of which he is the author.\n",
      "Article 28\n",
      "Everyone is entitled to a social and international order in which the rights and freedoms set forth in this Declaration can be fully realized.\n",
      "\n",
      "Article 29\n",
      "Everyone has duties to the community in which alone the free and full development of his personality is possible.\n",
      "In the exercise of his rights and freedoms, everyone shall be subject only to such limitations as are determined by law solely for the purpose of securing due recognition and respect for the rights and freedoms of others and of meeting the just requirements of morality, public order and the general welfare in a democratic society.\n",
      "These rights and freedoms may in no case be exercised contrary to the purposes and principles of the United Nations.\n",
      "Article 30\n",
      "Nothing in this Declaration may be interpreted as implying for any State, group or person any right to engage in any activity or to perform any act aimed at the destruction of any of the rights and freedoms set forth herein.\n"
     ]
    }
   ],
   "source": [
    "with open(filename, 'r') as file:\n",
    "    # Read the contents of the file\n",
    "    contents = file.read()\n",
    "    print(contents)"
   ]
  },
  {
   "cell_type": "markdown",
   "id": "e02ccb12-c250-498e-9b43-231d15376f56",
   "metadata": {},
   "source": [
    "## 2nd step : split the document into chunks \n",
    "<img src=\"https://cf-courses-data.s3.us.cloud-object-storage.appdomain.cloud/0JFmAV5e_mejAXvCilgHWg.png\" width=\"50%\" alt=\"split\"/>\n"
   ]
  },
  {
   "cell_type": "code",
   "execution_count": 3,
   "id": "bb63b01c-6ec5-4b8f-8f83-6377334e97ee",
   "metadata": {},
   "outputs": [],
   "source": [
    "from langchain.document_loaders import TextLoader\n",
    "from langchain.text_splitter import CharacterTextSplitter\n",
    "from langchain_text_splitters import RecursiveCharacterTextSplitter\n"
   ]
  },
  {
   "cell_type": "code",
   "execution_count": 4,
   "id": "7fed17cd-c1a0-43af-b2c8-abc28fe92258",
   "metadata": {},
   "outputs": [],
   "source": [
    "loader = TextLoader(filename)\n",
    "documents = loader.load()"
   ]
  },
  {
   "cell_type": "code",
   "execution_count": null,
   "id": "ebd59409-f7be-42e5-9f25-50308266309f",
   "metadata": {},
   "outputs": [],
   "source": []
  },
  {
   "cell_type": "code",
   "execution_count": 5,
   "id": "df4578f5-d514-4d9a-a353-8db4b7eb29cb",
   "metadata": {},
   "outputs": [
    {
     "name": "stdout",
     "output_type": "stream",
     "text": [
      "Nombre de chunks générés : 16\n",
      "\n",
      "Premier chunk :\n",
      "\n",
      "Universal Declaration of Human Rights\n",
      "The Universal Declaration of Human Rights (UDHR) is a milestone document in the history of human rights. Drafted by representatives with different legal and cultural backgrounds from all regions of the world, the Declaration was proclaimed by the United Nations General Assembly in Paris on 10 December 1948 (General Assembly resolution 217 A) as a common standard of achievements for all peoples and all nations. It sets out, for the first time, fundamental hum\n"
     ]
    }
   ],
   "source": [
    "text_splitter = RecursiveCharacterTextSplitter(\n",
    "    chunk_size=1000,   # taille max de chaque chunk\n",
    "    chunk_overlap=200, # recouvrement entre chunks (évite de perdre du contexte)\n",
    "    separators=[\"\\n\\n\", \"\\n\", \".\", \" \", \"\"] # ordre de priorité pour couper\n",
    ")\n",
    "texts = text_splitter.split_documents(documents)\n",
    "print(\"Nombre de chunks générés :\", len(texts))\n",
    "print(\"\\nPremier chunk :\\n\")\n",
    "print(texts[0].page_content[:500]) "
   ]
  },
  {
   "cell_type": "markdown",
   "id": "433b2ee9-ab1f-4225-bad0-24c55a7cbd80",
   "metadata": {},
   "source": [
    "## 3rd step : Embedde and store in a VS\n",
    "<img src=\"https://cf-courses-data.s3.us.cloud-object-storage.appdomain.cloud/u_oJz3v2cSR_lr0YvU6PaA.png\" width=\"50%\" alt=\"split\"/>\n"
   ]
  },
  {
   "cell_type": "code",
   "execution_count": 6,
   "id": "9fe7f612-5402-41a0-8a45-903595f5ee55",
   "metadata": {},
   "outputs": [],
   "source": [
    "from langchain_community.embeddings import HuggingFaceEmbeddings\n",
    "from langchain_community.vectorstores import Chroma"
   ]
  },
  {
   "cell_type": "code",
   "execution_count": 7,
   "id": "34101448-aefe-4924-ae6b-15f1b1e647a8",
   "metadata": {},
   "outputs": [
    {
     "name": "stderr",
     "output_type": "stream",
     "text": [
      "C:\\Users\\DELL\\AppData\\Local\\Temp\\ipykernel_10232\\2099935384.py:1: LangChainDeprecationWarning: The class `HuggingFaceEmbeddings` was deprecated in LangChain 0.2.2 and will be removed in 1.0. An updated version of the class exists in the :class:`~langchain-huggingface package and should be used instead. To use it run `pip install -U :class:`~langchain-huggingface` and import as `from :class:`~langchain_huggingface import HuggingFaceEmbeddings``.\n",
      "  embeddings = HuggingFaceEmbeddings(\n"
     ]
    },
    {
     "name": "stdout",
     "output_type": "stream",
     "text": [
      "document ingested\n"
     ]
    }
   ],
   "source": [
    "embeddings = HuggingFaceEmbeddings(\n",
    "    model_name=\"sentence-transformers/all-MiniLM-L6-v2\"\n",
    ")\n",
    "docsearch = Chroma.from_documents(texts, embeddings)  # store the embedding in docsearch using Chromadb\n",
    "print('document ingested')"
   ]
  },
  {
   "cell_type": "code",
   "execution_count": 8,
   "id": "706d92fe-2fb8-4456-9257-2383f3387676",
   "metadata": {},
   "outputs": [],
   "source": [
    "from langchain_ollama.llms import OllamaLLM\n"
   ]
  },
  {
   "cell_type": "code",
   "execution_count": 9,
   "id": "cead3ca4-af90-4191-a9f2-3b161f4fde5b",
   "metadata": {},
   "outputs": [],
   "source": [
    "model = OllamaLLM(model=\"llama3.1:8b\", temperature=0.3)"
   ]
  },
  {
   "cell_type": "code",
   "execution_count": 10,
   "id": "ff5cd7b2-7fde-4ad6-86eb-62d9a4f60cf1",
   "metadata": {},
   "outputs": [],
   "source": [
    "from langchain.chains import RetrievalQA\n"
   ]
  },
  {
   "cell_type": "markdown",
   "id": "6d901e5f-1e2d-4edb-b423-9977c5455137",
   "metadata": {},
   "source": [
    "### Lets try a simple Q&A "
   ]
  },
  {
   "cell_type": "code",
   "execution_count": 11,
   "id": "612310ac-3a74-4b35-a57a-870e79427289",
   "metadata": {},
   "outputs": [
    {
     "data": {
      "text/plain": [
       "{'query': 'what is the document about ?',\n",
       " 'result': 'The Universal Declaration of Human Rights. \\n\\nThis document outlines a common standard for human rights that should be respected by all nations, and it sets out various rights and freedoms that individuals are entitled to, including the right to life, liberty, security, education, and cultural participation.'}"
      ]
     },
     "execution_count": 11,
     "metadata": {},
     "output_type": "execute_result"
    }
   ],
   "source": [
    "qa = RetrievalQA.from_chain_type(llm=model, \n",
    "                                 chain_type=\"stuff\", \n",
    "                                 retriever=docsearch.as_retriever(), \n",
    "                                 return_source_documents=False)\n",
    "query = \"what is the document about ?\"\n",
    "qa.invoke(query)"
   ]
  },
  {
   "cell_type": "code",
   "execution_count": 12,
   "id": "65357587-eec8-4f6d-accb-235888c03e00",
   "metadata": {},
   "outputs": [
    {
     "data": {
      "text/plain": [
       "{'query': 'can you summarize the document?',\n",
       " 'result': 'The Universal Declaration of Human Rights is a document adopted by the United Nations General Assembly that outlines fundamental human rights and freedoms. It consists of 30 articles that describe the inherent dignity and worth of all individuals, and sets out their basic entitlements to life, liberty, security, education, and other essential aspects of well-being.\\n\\nThe document emphasizes the importance of promoting respect for these rights and freedoms through education, teaching, and progressive measures at both national and international levels. It also recognizes that everyone is entitled to equal treatment and protection under the law, regardless of their background or circumstances.\\n\\nSome key themes and principles in the document include:\\n\\n* The inherent dignity and worth of all individuals\\n* Equality and non-discrimination\\n* Freedom from slavery, servitude, and arbitrary arrest\\n* Right to life, liberty, and security\\n* Right to education and cultural participation\\n* Protection of moral and material interests resulting from scientific, literary, or artistic production\\n\\nOverall, the Universal Declaration of Human Rights is a foundational document that sets out a common standard for human rights and freedoms, and serves as a basis for international cooperation and action to promote and protect these rights.'}"
      ]
     },
     "execution_count": 12,
     "metadata": {},
     "output_type": "execute_result"
    }
   ],
   "source": [
    "query = \"can you summarize the document?\"\n",
    "qa.invoke(query)"
   ]
  },
  {
   "cell_type": "markdown",
   "id": "f71a8198-2c62-49bd-b3a8-417cd49ea953",
   "metadata": {},
   "source": [
    "### Now lets use a prompt emplate to guide the responses from the llm the way we want"
   ]
  },
  {
   "cell_type": "markdown",
   "id": "5f54f92e-d179-4ed1-8426-08c7fef51655",
   "metadata": {},
   "source": [
    "for example if I ask the LLm an irrelevant question"
   ]
  },
  {
   "cell_type": "code",
   "execution_count": 13,
   "id": "963e4a26-8970-4567-9177-5aa09102bc3b",
   "metadata": {},
   "outputs": [
    {
     "data": {
      "text/plain": [
       "{'query': 'Can I eat in the company?',\n",
       " 'result': \"I don't know. The provided text does not mention anything about eating in a company or workplace setting. It appears to be a document outlining human rights and freedoms as part of the Universal Declaration of Human Rights.\"}"
      ]
     },
     "execution_count": 13,
     "metadata": {},
     "output_type": "execute_result"
    }
   ],
   "source": [
    "query = \"Can I eat in the company?\"\n",
    "qa.invoke(query)"
   ]
  },
  {
   "cell_type": "code",
   "execution_count": 14,
   "id": "8598a932-e552-4100-b964-1f5595a3c2a0",
   "metadata": {},
   "outputs": [],
   "source": [
    "from langchain.prompts import PromptTemplate\n"
   ]
  },
  {
   "cell_type": "code",
   "execution_count": 20,
   "id": "09bc6bba-6dd2-47d8-bdda-a35e887e1f34",
   "metadata": {},
   "outputs": [],
   "source": [
    "prompt_template=\"\"\"\n",
    "# UNIVERSAL DECLARATION OF HUMAN RIGHTS ANALYSIS\n",
    "## Role: International Human Rights Legal Expert\n",
    "\n",
    "## DOCUMENT CONTEXT:\n",
    "{context}\n",
    "\n",
    "## USER QUERY:\n",
    "{question}\n",
    "\n",
    "## ANALYSIS GUIDELINES:\n",
    "1. **Legal Precision**: Reference specific Articles (e.g., \"Article 25 states...\")\n",
    "2. **Historical Context**: Note this was adopted by UN General Assembly in 1948\n",
    "3. **Interpretation**: Provide legal interpretation when relevant\n",
    "4. **Limitations**: Clarify what this declaration is and isn't (aspirational vs. legally binding)\n",
    "5. **Modern Relevance**: Connect to contemporary human rights issues when appropriate\n",
    "\n",
    "## RESPONSE FORMAT:\n",
    "- Start with direct answer\n",
    "- Cite relevant Articles with quotes\n",
    "- Provide legal context\n",
    "- Note applicability and limitations\n",
    "- Keep responses comprehensive but accessible\n",
    "\n",
    "## IMPORTANT: \n",
    "If the query cannot be answered from the UDHR text, respond:\n",
    "\"This specific matter is not directly addressed in the Universal Declaration of Human Rights. The UDHR focuses on fundamental human rights and freedoms\"\n",
    "\n",
    "## EXPERT ANALYSIS:\n",
    "\"\"\""
   ]
  },
  {
   "cell_type": "code",
   "execution_count": 21,
   "id": "2c434ff0-50f5-4901-82f0-0a59576cb2c5",
   "metadata": {},
   "outputs": [],
   "source": [
    "udhr_prompt = PromptTemplate(\n",
    "    template=prompt_template,\n",
    "    input_variables=[\"context\", \"question\"]  \n",
    ")"
   ]
  },
  {
   "cell_type": "code",
   "execution_count": 22,
   "id": "a6df240b-a0d1-44f1-9378-d8c10c9dbf42",
   "metadata": {},
   "outputs": [],
   "source": [
    "udhr_qa = RetrievalQA.from_chain_type(\n",
    "    llm=model,\n",
    "    chain_type=\"stuff\",\n",
    "    retriever=docsearch.as_retriever(),\n",
    "    chain_type_kwargs={\"prompt\": udhr_prompt},\n",
    "    return_source_documents=True,\n",
    "    verbose=False\n",
    ")"
   ]
  },
  {
   "cell_type": "code",
   "execution_count": 23,
   "id": "5c7fa3fa-a21f-40c1-b2a9-82f239cf851a",
   "metadata": {},
   "outputs": [
    {
     "name": "stdout",
     "output_type": "stream",
     "text": [
      "**Direct Answer:** There is no explicit mention of eating in the workplace or company premises in the Universal Declaration of Human Rights (UDHR).\n",
      "\n",
      "**Cited Articles:**\n",
      "The relevant articles that touch upon aspects related to work, employment, and social protection are:\n",
      "\n",
      "* Article 23: \"Everyone has the right to work... just and favourable conditions of work...\"\n",
      "* Article 25: \"Everyone has the right to a standard of living adequate for the health and well-being of himself and of his family...\"\n",
      "\n",
      "**Legal Context:** The UDHR emphasizes the importance of ensuring that individuals have access to basic necessities, including food, clothing, housing, and medical care. However, it does not explicitly address workplace policies or regulations regarding eating in the company.\n",
      "\n",
      "**Applicability and Limitations:**\n",
      "The UDHR is an aspirational document, aiming to establish a common understanding of fundamental human rights and freedoms. It serves as a moral and ethical guide for governments and international organizations but is not a legally binding instrument. Its provisions are intended to be implemented through national laws and policies.\n",
      "\n",
      "**Modern Relevance:** While the UDHR does not directly address eating in the workplace, its principles on social protection, fair labor conditions, and adequate standard of living can inform contemporary discussions on workplace policies, including those related to employee well-being and work-life balance.\n"
     ]
    }
   ],
   "source": [
    "query = \"Can I eat in the company?\"\n",
    "result = udhr_qa.invoke({\"query\": query}) \n",
    "print(result['result'])"
   ]
  },
  {
   "cell_type": "code",
   "execution_count": 24,
   "id": "87a1ec79-1dfb-4f3c-b4cf-7468efd0391b",
   "metadata": {},
   "outputs": [
    {
     "name": "stdout",
     "output_type": "stream",
     "text": [
      "**Direct Answer:** There are 30 Articles in the Universal Declaration of Human Rights (UDHR).\n",
      "\n",
      "**Citing Relevant Articles with Quotes:**\n",
      "\n",
      "The UDHR is divided into several sections, but for clarity, I will list all 30 Articles:\n",
      "\n",
      "1. All human beings are born free and equal in dignity and rights.\n",
      "2. Everyone is entitled to all the rights and freedoms set forth in this Declaration...\n",
      "3. Everyone has the right to life, liberty and security of person.\n",
      "4. No one shall be held in slavery or servitude; slavery and the slave trade shall be prohibited in all their forms.\n",
      "5. Everyone has the right to a fair trial by an impartial tribunal...\n",
      "6. Everyone is entitled to recognition everywhere as a person before the law.\n",
      "7. All are equal before the law and are entitled without any discrimination...\n",
      "8. Everyone has the right to an effective remedy by the competent national tribunals...\n",
      "9. No one shall be subjected to arbitrary arrest, detention or exile.\n",
      "10. Everyone is entitled in full equality to a fair and public hearing by an independent and impartial tribunal...\n",
      "11. Everyone charged with a penal offence has the right to be presumed innocent until proved guilty...\n",
      "12. Everyone has the right to freedom of thought, conscience and religion; this right includes freedom to change his religion or belief...\n",
      "13. Freedom to manifest one's religion or beliefs shall be subject only to such limitations...\n",
      "14. Everyone has the right to freedom of movement and residence within the borders of each State.\n",
      "15. Everyone has the right to a nationality; no one shall be arbitrarily deprived of his nationality...\n",
      "16. Men and women of full age, without any limitation due to race, nationality or religion...\n",
      "17. Everyone has the right to participate in the government of his country...\n",
      "18. The will of the people shall be the basis of the authority of government...\n",
      "19. Everyone has the right to freedom of opinion and expression; this right includes freedom to hold opinions...\n",
      "20. Education shall be directed to the full development of the human personality...\n",
      "21. The right of parents to choose the kind of education that shall be given to their children...\n",
      "22. Everyone, as a member of society, has the duty to respect and obey the law...\n",
      "23. Everyone is entitled to equal access to public service in his country.\n",
      "24. Everyone has the right to rest and leisure, including reasonable limitation of working hours...\n",
      "25. Everyone has the right to an adequate standard of living for himself and his family...\n",
      "26. Everyone has the right to education... Education shall be directed to the full development of the human personality...\n",
      "27. Everyone has the right freely to participate in the cultural life of the community...\n",
      "28. Everyone is entitled to a social and international order in which the rights and freedoms set forth in this Declaration can be fully realized.\n",
      "29. These rights and freedoms may in no case be exercised contrary to the purposes and principles of the United Nations.\n",
      "30. Nothing in this Declaration may be interpreted as implying for any State, group or person any right to engage in any activity...\n",
      "\n",
      "**Legal Context:**\n",
      "\n",
      "The Universal Declaration of Human Rights (UDHR) was adopted by the UN General Assembly in 1948. It is a non-binding document that sets out fundamental human rights and freedoms to be universally protected.\n",
      "\n",
      "**Applicability and Limitations:**\n",
      "\n",
      "While the UDHR is not legally binding, it has been widely influential in shaping international human rights law. Many countries have incorporated its provisions into their national laws, and it serves as a foundation for numerous human rights treaties and conventions.\n",
      "\n",
      "The UDHR's aspirational nature means that it does not create enforceable obligations on states. However, it provides a framework for understanding the universal principles of human dignity and equality, which underpin modern human rights law.\n",
      "\n",
      "**Modern Relevance:**\n",
      "\n",
      "The UDHR remains relevant today as a cornerstone of international human rights law. Its provisions continue to inform contemporary debates on issues such as freedom of expression, education, cultural diversity, and social justice.\n"
     ]
    }
   ],
   "source": [
    "query = \"how many articles are there?\"\n",
    "result = udhr_qa.invoke({\"query\": query}) \n",
    "print(result['result'])"
   ]
  },
  {
   "cell_type": "markdown",
   "id": "8bef4cdc-4878-42b4-af6e-a3b05befaae4",
   "metadata": {},
   "source": [
    "### we could even change the prompt template "
   ]
  },
  {
   "cell_type": "code",
   "execution_count": 30,
   "id": "29f867ed-74c9-48d3-b5d4-6d11d615eee4",
   "metadata": {},
   "outputs": [],
   "source": [
    "prompt_template = \"\"\"\n",
    "You are an assistant specialized in the Universal Declaration of Human Rights (UDHR).\n",
    "Answer the user's question using only the information from the UDHR provided below.\n",
    "\n",
    "Context (UDHR excerpt):\n",
    "{context}\n",
    "\n",
    "Question: {question}\n",
    "\n",
    "Give a clear and concise answer, mentioning the relevant article if possible.\n",
    "If the query cannot be answered from the UDHR text, respond:\n",
    "\"This specific matter is not directly addressed in the Universal Declaration of Human Rights. The UDHR focuses on fundamental human rights and freedoms\"\n",
    "\n",
    "\"\"\"\n",
    "udhr_prompt = PromptTemplate(\n",
    "    template=prompt_template,\n",
    "    input_variables=[\"context\", \"question\"]  \n",
    ")\n",
    "udhr_qa = RetrievalQA.from_chain_type(\n",
    "    llm=model,\n",
    "    chain_type=\"stuff\",\n",
    "    retriever=docsearch.as_retriever(),\n",
    "    chain_type_kwargs={\"prompt\": udhr_prompt},\n",
    "    return_source_documents=True,\n",
    "    verbose=False\n",
    ")"
   ]
  },
  {
   "cell_type": "markdown",
   "id": "39aa8c35-1883-4f24-99f6-39990d99f6ae",
   "metadata": {},
   "source": [
    "### Now we gonna explore how a memory chat can be useful "
   ]
  },
  {
   "cell_type": "code",
   "execution_count": 31,
   "id": "5b66e1fc-b4f9-4c75-b545-1fe7da5f4b4b",
   "metadata": {},
   "outputs": [
    {
     "name": "stdout",
     "output_type": "stream",
     "text": [
      "According to Article 23 of the UDHR:\n",
      "\n",
      "Everyone has the right to work, to free choice of employment, to just and favourable conditions of work and to protection against unemployment.\n",
      "Everyone, without any discrimination, has the right to equal pay for equal work.\n",
      "Everyone who works has the right to just and favourable remuneration ensuring for himself and his family an existence worthy of human dignity, and supplemented, if necessary, by other means of social protection.\n",
      "Everyone has the right to form and to join trade unions for the protection of his interests.\n"
     ]
    }
   ],
   "source": [
    "query = \"What does Article 23 of the UDHR say?\"\n",
    "result = udhr_qa.invoke({\"query\": query}) \n",
    "print(result['result'])"
   ]
  },
  {
   "cell_type": "code",
   "execution_count": 33,
   "id": "7ae7cc32-e6ea-4923-8b8e-555f7c84cf8b",
   "metadata": {},
   "outputs": [
    {
     "name": "stdout",
     "output_type": "stream",
     "text": [
      "According to Article 25, everyone has the right to a standard of living adequate for the health and well-being of themselves and their family, including food, clothing, housing, medical care, and necessary social services. Additionally, they have the right to security in case of unemployment, sickness, disability, widowhood, old age, or other circumstances beyond their control.\n"
     ]
    }
   ],
   "source": [
    "query = \"What about Article 25?\"\n",
    "result = udhr_qa.invoke({\"query\": query}) \n",
    "print(result['result'])"
   ]
  },
  {
   "cell_type": "markdown",
   "id": "c20a8f8c-418b-4de0-97f0-db9d0f0b7721",
   "metadata": {},
   "source": [
    "here the model cant really remember that I already asked about Article 23 and 25 "
   ]
  },
  {
   "cell_type": "code",
   "execution_count": 37,
   "id": "ec68698c-5cf6-4940-96f2-964017184c80",
   "metadata": {},
   "outputs": [
    {
     "name": "stdout",
     "output_type": "stream",
     "text": [
      "The two articles are related because they both emphasize the importance of respecting the rights and freedoms of others.\n",
      "\n",
      "Article 2 states that everyone is entitled to all the rights and freedoms without distinction, and Article 29 emphasizes that in exercising their rights and freedoms, individuals shall be subject only to limitations determined by law for the purpose of securing due recognition and respect for the rights and freedoms of others.\n"
     ]
    }
   ],
   "source": [
    "query = \"How are those two articles related ?\"\n",
    "result = udhr_qa.invoke({\"query\": query}) \n",
    "print(result['result'])"
   ]
  },
  {
   "cell_type": "markdown",
   "id": "8c94e644-1e83-49af-a1f9-cc42d22bc0fb",
   "metadata": {},
   "source": [
    "the model answering about article 2 & 29 shows clearly the limitation of a normal RetrievalQA"
   ]
  },
  {
   "cell_type": "markdown",
   "id": "6a262e63-1af3-4a9d-a797-07f0362ecb37",
   "metadata": {},
   "source": [
    "### Lets make the conversation have memory\n"
   ]
  },
  {
   "cell_type": "code",
   "execution_count": 39,
   "id": "16f979ef-be3c-4980-840d-8b3475b73da0",
   "metadata": {},
   "outputs": [],
   "source": [
    "from langchain.chains import ConversationalRetrievalChain\n",
    "from langchain.memory import ConversationBufferMemory"
   ]
  },
  {
   "cell_type": "code",
   "execution_count": 73,
   "id": "583a78ed-1b87-4747-8d91-032ba57f96ef",
   "metadata": {},
   "outputs": [],
   "source": [
    "memory = ConversationBufferMemory(memory_key = \"chat_history\", return_message = True)"
   ]
  },
  {
   "cell_type": "code",
   "execution_count": 74,
   "id": "a9d12772-3bd4-4255-903b-d93a50eabf70",
   "metadata": {},
   "outputs": [],
   "source": [
    "udhr_qa_memory = ConversationalRetrievalChain.from_llm(llm=model, \n",
    "                                           chain_type=\"stuff\", \n",
    "                                           retriever=docsearch.as_retriever(), \n",
    "                                           memory = memory, \n",
    "                                           get_chat_history=lambda h : h, \n",
    "                                           return_source_documents=False)"
   ]
  },
  {
   "cell_type": "code",
   "execution_count": 75,
   "id": "fe67c978-0780-40ee-8399-82007b902810",
   "metadata": {},
   "outputs": [],
   "source": [
    "#we create a list to save the chat history \n",
    "history = []"
   ]
  },
  {
   "cell_type": "code",
   "execution_count": 76,
   "id": "b0a1c3c0-29a6-4855-a885-3c47e5014f91",
   "metadata": {},
   "outputs": [
    {
     "name": "stdout",
     "output_type": "stream",
     "text": [
      "According to Article 23 of the Universal Declaration of Human Rights (UDHR), everyone has the following rights:\n",
      "\n",
      "* The right to work\n",
      "* The free choice of employment\n",
      "* Just and favourable conditions of work\n",
      "* Protection against unemployment\n",
      "* Equal pay for equal work, without any discrimination\n",
      "* Just and favourable remuneration that ensures a worthy existence for themselves and their family, supplemented by other means of social protection if necessary\n",
      "* The right to form and join trade unions for the protection of their interests.\n"
     ]
    }
   ],
   "source": [
    "query = \"What does Article 23 of the UDHR say?\"\n",
    "result =udhr_qa_memory.invoke({\"question\":query}, {\"chat_history\": history})\n",
    "print(result[\"answer\"])"
   ]
  },
  {
   "cell_type": "code",
   "execution_count": 77,
   "id": "45486df9-e934-4863-b328-1e86c2def9c5",
   "metadata": {},
   "outputs": [],
   "source": [
    "history.append((query, result[\"answer\"]))"
   ]
  },
  {
   "cell_type": "code",
   "execution_count": 78,
   "id": "2f9353a5-fc3a-4b1d-b302-546f12e98495",
   "metadata": {},
   "outputs": [
    {
     "name": "stdout",
     "output_type": "stream",
     "text": [
      "According to Article 20, everyone has the right to freedom of peaceful assembly and association. No one may be compelled to belong to an association.\n"
     ]
    }
   ],
   "source": [
    "query = \"What about Article 20?\"\n",
    "result =udhr_qa_memory.invoke({\"question\":query}, {\"chat_history\": history})\n",
    "print(result[\"answer\"])"
   ]
  },
  {
   "cell_type": "code",
   "execution_count": 79,
   "id": "4f38558b-bf3e-4574-917e-63afe6f99d68",
   "metadata": {},
   "outputs": [],
   "source": [
    "history.append((query, result[\"answer\"]))"
   ]
  },
  {
   "cell_type": "code",
   "execution_count": 83,
   "id": "3bfffd96-ce43-4787-a53c-677ff134cf96",
   "metadata": {},
   "outputs": [
    {
     "name": "stdout",
     "output_type": "stream",
     "text": [
      "The two articles are not directly related, but they share a common theme of protecting individual rights and promoting social welfare. Article 20 guarantees freedom of assembly and association, while Article 23 ensures the right to work, fair employment conditions, and protection against unemployment.\n",
      "\n",
      "However, one could argue that Article 20 is indirectly related to Article 23 in that it allows individuals to form trade unions (Article 23) for the protection of their interests. The right to freedom of assembly and association (Article 20) enables workers to come together and advocate for better working conditions, fair pay, and other benefits enshrined in Article 23.\n",
      "\n",
      "It's worth noting that these articles are part of the Universal Declaration of Human Rights, which emphasizes the interconnectedness of human rights and freedoms.\n"
     ]
    }
   ],
   "source": [
    "query = \"How are those two articles i asked you about related ?\"\n",
    "result =udhr_qa_memory.invoke({\"question\":query}, {\"chat_history\": history})\n",
    "print(result[\"answer\"])"
   ]
  },
  {
   "cell_type": "code",
   "execution_count": 84,
   "id": "bfb0c332-7759-4571-b203-198b305094b9",
   "metadata": {},
   "outputs": [],
   "source": [
    "history.append((query, result[\"answer\"]))"
   ]
  },
  {
   "cell_type": "markdown",
   "id": "8fd0c99e-b4c6-4b3a-a21d-bcea9f7f8d93",
   "metadata": {},
   "source": [
    "### wrap everything seen above into an agent "
   ]
  },
  {
   "cell_type": "code",
   "execution_count": 85,
   "id": "7d44cb4a-abe5-4c46-84a3-df4b4c79bc34",
   "metadata": {},
   "outputs": [],
   "source": [
    "def qa():\n",
    "    memory = ConversationBufferMemory(memory_key = \"chat_history\", return_message = True)\n",
    "    qa = ConversationalRetrievalChain.from_llm(llm=model, \n",
    "                                               chain_type=\"stuff\", \n",
    "                                               retriever=docsearch.as_retriever(), \n",
    "                                               memory = memory, \n",
    "                                               get_chat_history=lambda h : h, \n",
    "                                               return_source_documents=False)\n",
    "    history = []\n",
    "    while True:\n",
    "        query = input(\"Question: \")\n",
    "        \n",
    "        if query.lower() in [\"quit\",\"exit\",\"bye\"]:\n",
    "            print(\"Answer: Goodbye!\")\n",
    "            break\n",
    "            \n",
    "        result = qa({\"question\": query}, {\"chat_history\": history})\n",
    "        \n",
    "        history.append((query, result[\"answer\"]))\n",
    "        \n",
    "        print(\"Answer: \", result[\"answer\"])"
   ]
  },
  {
   "cell_type": "code",
   "execution_count": null,
   "id": "bd7a8fcf-d1ab-4dd5-a57a-863068582a19",
   "metadata": {},
   "outputs": [
    {
     "name": "stdin",
     "output_type": "stream",
     "text": [
      "Question:  how many article are they \n"
     ]
    },
    {
     "name": "stderr",
     "output_type": "stream",
     "text": [
      "C:\\Users\\DELL\\AppData\\Local\\Temp\\ipykernel_10232\\548420246.py:17: LangChainDeprecationWarning: The method `Chain.__call__` was deprecated in langchain 0.1.0 and will be removed in 1.0. Use :meth:`~invoke` instead.\n",
      "  result = qa({\"question\": query}, {\"chat_history\": history})\n"
     ]
    },
    {
     "name": "stdout",
     "output_type": "stream",
     "text": [
      "Answer:  There are 30 articles in the Universal Declaration of Human Rights.\n"
     ]
    },
    {
     "name": "stdin",
     "output_type": "stream",
     "text": [
      "Question:  can you class them into main categories ? \n"
     ]
    },
    {
     "name": "stdout",
     "output_type": "stream",
     "text": [
      "Answer:  The text appears to be the Universal Declaration of Human Rights, adopted by the United Nations General Assembly in 1948.\n",
      "\n",
      "To answer your rephrased question, I can identify several main categories or themes present in the document:\n",
      "\n",
      "1. **Human Rights and Freedoms**: This category includes articles that define human rights and freedoms, such as the right to life (Article 3), freedom from slavery (Article 4), and protection of moral and material interests (Article 27).\n",
      "2. **Education and Culture**: Articles 26-28 focus on education, cultural participation, and access to scientific advancement.\n",
      "3. **Equality and Non-Discrimination**: This category includes articles that emphasize equality before the law (Article 7) and prohibit discrimination based on various factors such as race, color, sex, language, religion, or national origin (Article 2).\n",
      "4. **Justice and Due Process**: Articles 9-10 deal with fair trial rights, including the right to a public hearing by an independent tribunal.\n",
      "5. **International Cooperation**: The document also emphasizes the importance of international cooperation in promoting human rights and freedoms.\n",
      "\n",
      "These categories are not exhaustive, but they provide a general framework for understanding the main themes present in the Universal Declaration of Human Rights.\n"
     ]
    }
   ],
   "source": [
    "qa()"
   ]
  },
  {
   "cell_type": "code",
   "execution_count": null,
   "id": "47ee0eb4-f34f-47c5-beeb-2b1af8289db5",
   "metadata": {},
   "outputs": [],
   "source": []
  }
 ],
 "metadata": {
  "kernelspec": {
   "display_name": "Python [conda env:base] *",
   "language": "python",
   "name": "conda-base-py"
  },
  "language_info": {
   "codemirror_mode": {
    "name": "ipython",
    "version": 3
   },
   "file_extension": ".py",
   "mimetype": "text/x-python",
   "name": "python",
   "nbconvert_exporter": "python",
   "pygments_lexer": "ipython3",
   "version": "3.13.5"
  }
 },
 "nbformat": 4,
 "nbformat_minor": 5
}
